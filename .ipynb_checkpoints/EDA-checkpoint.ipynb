{
 "cells": [
  {
   "cell_type": "markdown",
   "id": "a9cbdb6d-79f5-4b81-a298-e2c3c0f4e370",
   "metadata": {},
   "source": [
    "# Import necessary libraries and custom modules"
   ]
  },
  {
   "cell_type": "code",
   "execution_count": null,
   "id": "949c0275-00f6-4d5c-8a53-425ddc3ffe43",
   "metadata": {},
   "outputs": [],
   "source": [
    "import pandas as pd\n",
    "import numpy as np\n",
    "from data_preprocessing import clean_data, engineer_features\n",
    "from visualization import (\n",
    "    plot_price_distribution, \n",
    "    plot_property_type_counts, \n",
    "    plot_price_vs_area, \n",
    "    plot_district_prices, \n",
    "    plot_correlation_heatmap, \n",
    "    plot_pairplot, \n",
    "    create_interactive_map\n",
    ")\n",
    "import missingno as msno\n",
    "import warnings\n",
    "warnings.filterwarnings(\"ignore\")"
   ]
  },
  {
   "cell_type": "markdown",
   "id": "d07304cc-051e-4ffd-b6fe-675a79a5cece",
   "metadata": {},
   "source": [
    "# Load the data"
   ]
  },
  {
   "cell_type": "code",
   "execution_count": null,
   "id": "d6c9214f-df7f-4166-a77d-9e19b5d0143c",
   "metadata": {},
   "outputs": [],
   "source": [
    "df1 = pd.read_csv('./data/portugal_housing_chunk_1.csv')\n",
    "df2 = pd.read_csv('./data/portugal_housing_chunk_2.csv')\n",
    "df3 = pd.read_csv('./data/portugal_housing_chunk_3.csv')\n",
    "df4 = pd.read_csv('./data/portugal_housing_chunk_4.csv')\n",
    "# Combine both chunks into a single DataFrame\n",
    "df = pd.concat([df1, df2], ignore_index=True)\n",
    "\n",
    "# Display initial rows to understand the data\n",
    "df.head()"
   ]
  },
  {
   "cell_type": "markdown",
   "id": "d5493312-b76e-4fd2-bd3f-e173176c7e4d",
   "metadata": {},
   "source": [
    "# Inspect and clean the data"
   ]
  },
  {
   "cell_type": "code",
   "execution_count": null,
   "id": "57318467-6aa4-4954-96b5-429174cc92ca",
   "metadata": {},
   "outputs": [],
   "source": [
    "print(\"Initial data shape:\", df.shape)\n",
    "print(\"Columns with missing values:\")\n",
    "msno.bar(df)\n",
    "msno.heatmap(df)\n",
    "\n",
    "# Clean the dataset using the `clean_data` function from data_preprocessing.py\n",
    "df = clean_data(df)\n",
    "print(\"Data shape after cleaning:\", df.shape)\n",
    "\n",
    "# Check for remaining missing values\n",
    "df.isnull().sum()"
   ]
  },
  {
   "cell_type": "markdown",
   "id": "28b9dc76-cfc9-4ec0-a257-b764fe762323",
   "metadata": {},
   "source": [
    "# Feature engineering"
   ]
  },
  {
   "cell_type": "code",
   "execution_count": null,
   "id": "ae55d137-b5ba-413b-8f3d-d6d118ef25de",
   "metadata": {},
   "outputs": [],
   "source": [
    "df = engineer_features(df)\n",
    "\n",
    "# Display the first few rows to verify feature engineering results\n",
    "df[['Price', 'UsableArea', 'PricePerSqMeter', 'ConstructionYear', 'Age']].head()"
   ]
  },
  {
   "cell_type": "markdown",
   "id": "a01cb10e-ff0b-4dfd-b8a9-d8ac86af9fe1",
   "metadata": {},
   "source": [
    "# Distribution of property prices"
   ]
  },
  {
   "cell_type": "code",
   "execution_count": null,
   "id": "931f10af-c704-4e95-af1e-8ab148a507fc",
   "metadata": {},
   "outputs": [],
   "source": [
    "plot_price_distribution(df)"
   ]
  },
  {
   "cell_type": "markdown",
   "id": "c5edaa14-bf17-4951-b811-0bad127eebee",
   "metadata": {},
   "source": [
    "# Count of properties by type"
   ]
  },
  {
   "cell_type": "code",
   "execution_count": null,
   "id": "1d7d71e5-c462-44fb-a81e-b7097806bcf7",
   "metadata": {},
   "outputs": [],
   "source": [
    "plot_property_type_counts(df)"
   ]
  },
  {
   "cell_type": "markdown",
   "id": "599e7c12-b070-4ff1-a67a-c786a2c67ada",
   "metadata": {},
   "source": [
    "# Scatter plot of Price vs Usable Area"
   ]
  },
  {
   "cell_type": "code",
   "execution_count": null,
   "id": "15424a7d-3936-45d1-b7f3-cf510235a734",
   "metadata": {},
   "outputs": [],
   "source": [
    "plot_price_vs_area(df)"
   ]
  },
  {
   "cell_type": "markdown",
   "id": "752f791d-f500-410d-9e31-2762163e7377",
   "metadata": {},
   "source": [
    "# Price per square meter by district"
   ]
  },
  {
   "cell_type": "code",
   "execution_count": null,
   "id": "386a3538-fe2c-4e7b-b4f4-4e1696bd273f",
   "metadata": {},
   "outputs": [],
   "source": [
    "plot_district_prices(df)"
   ]
  },
  {
   "cell_type": "markdown",
   "id": "db979060-7c72-48bc-b9b6-5918e8f131da",
   "metadata": {},
   "source": [
    "# Correlation heatmap of numerical features"
   ]
  },
  {
   "cell_type": "code",
   "execution_count": null,
   "id": "7afa0202-8ca2-42d7-9093-217a866b6b98",
   "metadata": {},
   "outputs": [],
   "source": [
    "plot_correlation_heatmap(df)"
   ]
  },
  {
   "cell_type": "markdown",
   "id": "c15c479d-3f00-4785-a815-3ab4f2b2031d",
   "metadata": {},
   "source": [
    "# Pair plot for key numerical features"
   ]
  },
  {
   "cell_type": "code",
   "execution_count": null,
   "id": "903c019a-eff6-446e-9872-c712e7c9c02a",
   "metadata": {},
   "outputs": [],
   "source": [
    "plot_pairplot(df)"
   ]
  },
  {
   "cell_type": "markdown",
   "id": "e384232e-287d-410f-8458-7e4d5910ad12",
   "metadata": {},
   "source": [
    "# Summarize key findings from the EDA"
   ]
  },
  {
   "cell_type": "code",
   "execution_count": null,
   "id": "0cc9a544-8381-4a84-af96-2c3896a5b327",
   "metadata": {},
   "outputs": [],
   "source": [
    "print(\"Summary of Findings:\")\n",
    "print(\"\"\"\n",
    "- The property prices vary significantly across Portugal, with certain districts showing higher price per square meter.\n",
    "- There appears to be a relationship between property size and price, but other factors like location and property type also play a role.\n",
    "- Energy efficiency ratings and property age could be further explored to understand their impact on prices.\n",
    "\"\"\")"
   ]
  }
 ],
 "metadata": {
  "kernelspec": {
   "display_name": "Python 3 (ipykernel)",
   "language": "python",
   "name": "python3"
  },
  "language_info": {
   "codemirror_mode": {
    "name": "ipython",
    "version": 3
   },
   "file_extension": ".py",
   "mimetype": "text/x-python",
   "name": "python",
   "nbconvert_exporter": "python",
   "pygments_lexer": "ipython3",
   "version": "3.12.4"
  }
 },
 "nbformat": 4,
 "nbformat_minor": 5
}
